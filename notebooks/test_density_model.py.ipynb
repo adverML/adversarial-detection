{
 "cells": [
  {
   "cell_type": "code",
   "execution_count": 1,
   "metadata": {},
   "outputs": [],
   "source": [
    "import numpy as np\n",
    "from helpers.generate_data import MFA_model\n",
    "from helpers.density_model_layer_statistics import train_log_normal_mixture, score_log_normal_mixture"
   ]
  },
  {
   "cell_type": "code",
   "execution_count": 2,
   "metadata": {},
   "outputs": [
    {
     "name": "stdout",
     "output_type": "stream",
     "text": [
      "data.shape =  (10000, 25)\n"
     ]
    }
   ],
   "source": [
    "# Generate data from a mixture of factor analyzers (MFA) model\n",
    "n_components = 5\n",
    "dim = 25\n",
    "# dim_latent = 5\n",
    "dim_latent_range = (5, 10)\n",
    "model_data = MFA_model(n_components, dim, dim_latent_range=dim_latent_range, seed_rng=123)\n",
    "\n",
    "data_orig, labels = model_data.generate_data(10000)\n",
    "# Exponentiate the data to create samples from the log-normal mixture density\n",
    "data = np.exp(data_orig)\n",
    "\n",
    "print(\"data.shape = \", data.shape)"
   ]
  },
  {
   "cell_type": "code",
   "execution_count": 3,
   "metadata": {
    "scrolled": false
   },
   "outputs": [
    {
     "name": "stderr",
     "output_type": "stream",
     "text": [
      "INFO:helpers.density_model_layer_statistics: #components = 1, covariance type = full, BIC score = 1225763.9170\n",
      "INFO:helpers.density_model_layer_statistics: #components = 1, covariance type = diag, BIC score = 1483199.2145\n",
      "INFO:helpers.density_model_layer_statistics: #components = 1, covariance type = tied, BIC score = 1225763.9170\n",
      "INFO:helpers.density_model_layer_statistics: #components = 2, covariance type = full, BIC score = 959551.4154\n",
      "INFO:helpers.density_model_layer_statistics: #components = 2, covariance type = diag, BIC score = 1253586.7429\n",
      "INFO:helpers.density_model_layer_statistics: #components = 2, covariance type = tied, BIC score = 1201923.0075\n",
      "INFO:helpers.density_model_layer_statistics: #components = 3, covariance type = full, BIC score = 920291.7690\n",
      "INFO:helpers.density_model_layer_statistics: #components = 3, covariance type = diag, BIC score = 1228473.7189\n",
      "INFO:helpers.density_model_layer_statistics: #components = 3, covariance type = tied, BIC score = 1167253.8020\n",
      "INFO:helpers.density_model_layer_statistics: #components = 4, covariance type = full, BIC score = 819823.2739\n",
      "INFO:helpers.density_model_layer_statistics: #components = 4, covariance type = diag, BIC score = 1120782.0676\n",
      "INFO:helpers.density_model_layer_statistics: #components = 4, covariance type = tied, BIC score = 1136809.8109\n",
      "INFO:helpers.density_model_layer_statistics: #components = 5, covariance type = diag, BIC score = 1119160.7806\n",
      "INFO:helpers.density_model_layer_statistics: #components = 5, covariance type = tied, BIC score = 1129126.2229\n",
      "INFO:helpers.density_model_layer_statistics: #components = 6, covariance type = diag, BIC score = 1103277.2325\n",
      "INFO:helpers.density_model_layer_statistics: #components = 6, covariance type = tied, BIC score = 1120464.3942\n",
      "INFO:helpers.density_model_layer_statistics: #components = 7, covariance type = diag, BIC score = 1102024.8516\n",
      "INFO:helpers.density_model_layer_statistics: #components = 7, covariance type = tied, BIC score = 1115804.1317\n",
      "INFO:helpers.density_model_layer_statistics: Model training complete.\n",
      "INFO:helpers.density_model_layer_statistics: Best model: #components = 4, covariance type = full, BIC score = 819823.2739\n"
     ]
    }
   ],
   "source": [
    "# Fit a log-normal mixture model to the data\n",
    "model = train_log_normal_mixture(data)"
   ]
  },
  {
   "cell_type": "code",
   "execution_count": 4,
   "metadata": {},
   "outputs": [
    {
     "name": "stdout",
     "output_type": "stream",
     "text": [
      "[40.38865115 34.81402868 40.42484355 39.26368694 43.58916622 39.23111984\n",
      " 33.87277603 38.49385173 38.60249621 37.18931605]\n"
     ]
    }
   ],
   "source": [
    "# Generate new data from the same model and calculate the anomaly score\n",
    "data_test = np.exp(model_data.generate_data(10)[0])\n",
    "score = score_log_normal_mixture(data_test, model)\n",
    "print(score)"
   ]
  },
  {
   "cell_type": "code",
   "execution_count": 5,
   "metadata": {},
   "outputs": [
    {
     "name": "stdout",
     "output_type": "stream",
     "text": [
      "[231.7358275  231.75044621 212.58846711 216.4953128  223.10115579\n",
      " 224.5846244  220.18337682 224.92297414 213.75707133 231.23739568]\n"
     ]
    }
   ],
   "source": [
    "# Generate a few samples from a uniform random distribution and calculate the anomaly score\n",
    "data_test = np.exp(np.random.rand(10, dim))\n",
    "score = score_log_normal_mixture(data_test, model)\n",
    "print(score)"
   ]
  }
 ],
 "metadata": {
  "kernelspec": {
   "display_name": "Python 3",
   "language": "python",
   "name": "python3"
  },
  "language_info": {
   "codemirror_mode": {
    "name": "ipython",
    "version": 3
   },
   "file_extension": ".py",
   "mimetype": "text/x-python",
   "name": "python",
   "nbconvert_exporter": "python",
   "pygments_lexer": "ipython3",
   "version": "3.7.4"
  }
 },
 "nbformat": 4,
 "nbformat_minor": 2
}
