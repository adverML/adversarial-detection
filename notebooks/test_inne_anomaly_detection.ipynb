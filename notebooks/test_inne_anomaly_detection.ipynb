{
 "cells": [
  {
   "cell_type": "markdown",
   "metadata": {},
   "source": [
    "Isolation-based anomaly detection using the nearest-neighbor ensembles (iNNE) method.\n",
    "\n",
    "Bandaragoda, Tharindu R., et al. \"Efficient anomaly detection by isolation using nearest neighbour ensemble.\"\n",
    "2014 IEEE International Conference on Data Mining Workshop. IEEE, 2014.\n",
    "\n",
    "Bandaragoda, Tharindu R., et al. \"Isolation‐based anomaly detection using nearest‐neighbor ensembles.\"\n",
    "Computational Intelligence 34.4 (2018): 968-998."
   ]
  },
  {
   "cell_type": "code",
   "execution_count": 1,
   "metadata": {},
   "outputs": [],
   "source": [
    "from helpers.inne_anomaly_detection import (\n",
    "    prob_sample_inclusion, \n",
    "    min_subsample_size, \n",
    "    min_ensemble_size\n",
    ")"
   ]
  },
  {
   "cell_type": "code",
   "execution_count": 2,
   "metadata": {},
   "outputs": [],
   "source": [
    "# Range of number of data points (samples)\n",
    "N_range = [100, 500, 1000, 5000, 10000, 50000, 100000, 500000, 1000000]"
   ]
  },
  {
   "cell_type": "code",
   "execution_count": 3,
   "metadata": {},
   "outputs": [
    {
     "name": "stdout",
     "output_type": "stream",
     "text": [
      "N = 100, psi = 3\n",
      "N = 500, psi = 15\n",
      "N = 1000, psi = 30\n",
      "N = 5000, psi = 148\n",
      "N = 10000, psi = 296\n",
      "N = 50000, psi = 1476\n",
      "N = 100000, psi = 2952\n",
      "N = 500000, psi = 14757\n",
      "N = 1000000, psi = 29514\n"
     ]
    }
   ],
   "source": [
    "# Minimum `psi` with the default ensemble size `t = 100` and `eps = 0.05`.\n",
    "# That is every sample has a minimum probability `1 - eps = 0.95` of getting selected at least once.\n",
    "for N in N_range:\n",
    "    psi = min_subsample_size(N)\n",
    "    print(\"N = {:d}, psi = {:d}\".format(N, psi))\n"
   ]
  },
  {
   "cell_type": "code",
   "execution_count": 4,
   "metadata": {},
   "outputs": [
    {
     "name": "stdout",
     "output_type": "stream",
     "text": [
      "N = 100, psi = 5\n",
      "N = 500, psi = 23\n",
      "N = 1000, psi = 46\n",
      "N = 5000, psi = 226\n",
      "N = 10000, psi = 451\n",
      "N = 50000, psi = 2251\n",
      "N = 100000, psi = 4501\n",
      "N = 500000, psi = 22504\n",
      "N = 1000000, psi = 45008\n"
     ]
    }
   ],
   "source": [
    "# Minimum `psi` with the ensemble size `t = 100` and `eps = 0.01`.\n",
    "# That is every sample has a minimum probability `1 - eps = 0.99` of getting selected at least once.\n",
    "for N in N_range:\n",
    "    psi = min_subsample_size(N, eps=0.01)\n",
    "    print(\"N = {:d}, psi = {:d}\".format(N, psi))"
   ]
  },
  {
   "cell_type": "code",
   "execution_count": 5,
   "metadata": {},
   "outputs": [
    {
     "name": "stdout",
     "output_type": "stream",
     "text": [
      "N = 100, t = 1\n",
      "N = 500, t = 11\n",
      "N = 1000, t = 22\n",
      "N = 5000, t = 116\n",
      "N = 10000, t = 233\n",
      "N = 50000, t = 1169\n",
      "N = 100000, t = 2339\n",
      "N = 500000, t = 11701\n",
      "N = 1000000, t = 23403\n"
     ]
    }
   ],
   "source": [
    "# Minimum ensemble size `t` required with `psi = 128` and `eps = 0.05`.\n",
    "for N in N_range:\n",
    "    t = min_ensemble_size(N, 128, eps=0.05)\n",
    "    print(\"N = {:d}, t = {:d}\".format(N, t))"
   ]
  },
  {
   "cell_type": "code",
   "execution_count": 6,
   "metadata": {},
   "outputs": [
    {
     "name": "stdout",
     "output_type": "stream",
     "text": [
      "N = 100, t = 1\n",
      "N = 500, t = 5\n",
      "N = 1000, t = 11\n",
      "N = 5000, t = 57\n",
      "N = 10000, t = 116\n",
      "N = 50000, t = 584\n",
      "N = 100000, t = 1169\n",
      "N = 500000, t = 5850\n",
      "N = 1000000, t = 11701\n"
     ]
    }
   ],
   "source": [
    "# Minimum ensemble size `t` required with `psi = 256` and `eps = 0.05`.\n",
    "for N in N_range:\n",
    "    t = min_ensemble_size(N, 256, eps=0.05)\n",
    "    print(\"N = {:d}, t = {:d}\".format(N, t))"
   ]
  }
 ],
 "metadata": {
  "kernelspec": {
   "display_name": "Python 3",
   "language": "python",
   "name": "python3"
  },
  "language_info": {
   "codemirror_mode": {
    "name": "ipython",
    "version": 3
   },
   "file_extension": ".py",
   "mimetype": "text/x-python",
   "name": "python",
   "nbconvert_exporter": "python",
   "pygments_lexer": "ipython3",
   "version": "3.7.3"
  }
 },
 "nbformat": 4,
 "nbformat_minor": 2
}
