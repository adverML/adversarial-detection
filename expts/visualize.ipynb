{
 "cells": [
  {
   "cell_type": "code",
   "execution_count": 1,
   "id": "d6869b93-124e-4720-966e-09d0d5cf80b3",
   "metadata": {},
   "outputs": [],
   "source": [
    "import matplotlib.pyplot as plt\n",
    "import numpy as np"
   ]
  },
  {
   "cell_type": "code",
   "execution_count": 2,
   "id": "d9f6f930-c98b-4c6f-b722-cbe3fab31779",
   "metadata": {},
   "outputs": [],
   "source": [
    "# plt.figure()\n",
    "\n",
    "# legend = plt.imread('legend.png')\n",
    "# avg_prec = plt.imread(avg_prec_pth)\n",
    "\n",
    "# plt.imshow(legend)\n",
    "\n",
    "# plt.show()"
   ]
  },
  {
   "cell_type": "code",
   "execution_count": 22,
   "id": "7f2f16bc-15cc-4b62-b92d-a718f4089479",
   "metadata": {},
   "outputs": [],
   "source": [
    "data_clean = \"numpy_data/cifar10/fold_1/FGSM/stepsize_0.001confidence_0epsilon_0.3maxiterations_1000iterations_40maxepsilon_1.0pnorm_inf/data_te_clean.npy\"\n",
    "data_adv   = \"numpy_data/cifar10/fold_1/FGSM/stepsize_0.001confidence_0epsilon_0.3maxiterations_1000iterations_40maxepsilon_1.0pnorm_inf/data_te_adv.npy\""
   ]
  },
  {
   "cell_type": "code",
   "execution_count": 23,
   "id": "92707193-9961-4b0d-9898-424a3982fc80",
   "metadata": {},
   "outputs": [],
   "source": [
    "data_cle = np.load(data_clean)\n",
    "data_adv = np.load(data_adv)"
   ]
  },
  {
   "cell_type": "code",
   "execution_count": 24,
   "id": "1efabc34-9ce3-4425-9946-e19a757268c0",
   "metadata": {},
   "outputs": [
    {
     "data": {
      "text/plain": [
       "(4960, 3, 32, 32)"
      ]
     },
     "execution_count": 24,
     "metadata": {},
     "output_type": "execute_result"
    }
   ],
   "source": [
    "data_cle.shape"
   ]
  },
  {
   "cell_type": "code",
   "execution_count": 25,
   "id": "4f010990-3e41-45bd-9a89-cd958848d489",
   "metadata": {},
   "outputs": [
    {
     "data": {
      "text/plain": [
       "(3, 32, 32)"
      ]
     },
     "execution_count": 25,
     "metadata": {},
     "output_type": "execute_result"
    }
   ],
   "source": [
    "data_cle[0].shape"
   ]
  },
  {
   "cell_type": "code",
   "execution_count": 26,
   "id": "9e9b57d7-2a49-404e-aa3d-f42100cd2614",
   "metadata": {},
   "outputs": [],
   "source": [
    "data_cle_first = data_cle[0].transpose([2,1,0])"
   ]
  },
  {
   "cell_type": "code",
   "execution_count": 27,
   "id": "b76e723c-20cc-46fd-bf88-948cb9a8a501",
   "metadata": {},
   "outputs": [
    {
     "name": "stderr",
     "output_type": "stream",
     "text": [
      "Clipping input data to the valid range for imshow with RGB data ([0..1] for floats or [0..255] for integers).\n"
     ]
    },
    {
     "data": {
      "text/plain": [
       "<matplotlib.image.AxesImage at 0x7f3b704c63a0>"
      ]
     },
     "execution_count": 27,
     "metadata": {},
     "output_type": "execute_result"
    },
    {
     "data": {
      "image/png": "[encoded data removed]",
      "text/plain": [
       "<Figure size 432x288 with 1 Axes>"
      ]
     },
     "metadata": {
      "needs_background": "light"
     },
     "output_type": "display_data"
    }
   ],
   "source": [
    "plt.imshow(data_cle_first)"
   ]
  },
  {
   "cell_type": "code",
   "execution_count": 28,
   "id": "7c4c5db6-6c3c-4d43-864a-513b60659ebf",
   "metadata": {},
   "outputs": [],
   "source": [
    "data_adv_first = data_adv[0].transpose([2,1,0])"
   ]
  },
  {
   "cell_type": "code",
   "execution_count": 29,
   "id": "255fc94e-0837-4ec1-a77a-aa9d0bd68395",
   "metadata": {},
   "outputs": [
    {
     "name": "stderr",
     "output_type": "stream",
     "text": [
      "Clipping input data to the valid range for imshow with RGB data ([0..1] for floats or [0..255] for integers).\n"
     ]
    },
    {
     "data": {
      "text/plain": [
       "<matplotlib.image.AxesImage at 0x7f3b7042c460>"
      ]
     },
     "execution_count": 29,
     "metadata": {},
     "output_type": "execute_result"
    },
    {
     "data": {
      "image/png": "[encoded data removed]",
      "text/plain": [
       "<Figure size 432x288 with 1 Axes>"
      ]
     },
     "metadata": {
      "needs_background": "light"
     },
     "output_type": "display_data"
    }
   ],
   "source": [
    "plt.imshow(data_adv_first)"
   ]
  },
  {
   "cell_type": "code",
   "execution_count": null,
   "id": "2de1a503-f995-4735-a8e9-27940b796297",
   "metadata": {},
   "outputs": [],
   "source": []
  }
 ],
 "metadata": {
  "kernelspec": {
   "display_name": "Python [conda env:.conda-cuda--11-1-1--pytorch--1-9-0]",
   "language": "python",
   "name": "conda-env-.conda-cuda--11-1-1--pytorch--1-9-0-py"
  },
  "language_info": {
   "codemirror_mode": {
    "name": "ipython",
    "version": 3
   },
   "file_extension": ".py",
   "mimetype": "text/x-python",
   "name": "python",
   "nbconvert_exporter": "python",
   "pygments_lexer": "ipython3",
   "version": "3.9.5"
  }
 },
 "nbformat": 4,
 "nbformat_minor": 5
}
